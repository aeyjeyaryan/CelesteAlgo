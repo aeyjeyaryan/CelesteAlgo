{
  "nbformat": 4,
  "nbformat_minor": 0,
  "metadata": {
    "colab": {
      "provenance": [],
      "authorship_tag": "ABX9TyMU3kVlo4xWTeiAZet3CvsG",
      "include_colab_link": true
    },
    "kernelspec": {
      "name": "python3",
      "display_name": "Python 3"
    },
    "language_info": {
      "name": "python"
    }
  },
  "cells": [
    {
      "cell_type": "markdown",
      "metadata": {
        "id": "view-in-github",
        "colab_type": "text"
      },
      "source": [
        "<a href=\"https://colab.research.google.com/github/aeyjeyaryan/Machine-Learning/blob/main/Random_Forest_Classifier_Implementation.ipynb\" target=\"_parent\"><img src=\"https://colab.research.google.com/assets/colab-badge.svg\" alt=\"Open In Colab\"/></a>"
      ]
    },
    {
      "cell_type": "code",
      "execution_count": 1,
      "metadata": {
        "colab": {
          "base_uri": "https://localhost:8080/"
        },
        "id": "kOZ1NSuDMWjv",
        "outputId": "7653e368-4322-48e2-8da4-52e59646f340"
      },
      "outputs": [
        {
          "output_type": "stream",
          "name": "stdout",
          "text": [
            "Accuracy: 1.0\n",
            "Enter the temperature to classify (e.g., 15): 989.254\n",
            "Prediction for temperature 989.254: ['Very Hot']\n"
          ]
        }
      ],
      "source": [
        "import pandas as pd\n",
        "from sklearn.model_selection import train_test_split\n",
        "from sklearn.ensemble import RandomForestClassifier\n",
        "from sklearn.metrics import accuracy_score\n",
        "\n",
        "# Just a random dataset using dict\n",
        "data = {'Temperature': [-10, -5, 0, 5, 10, 25, 30, 35, 40, 45, 50, 55, 60, 65, 70],\n",
        "        'Label': ['Very Cold', 'Very Cold', 'Very Cold', 'Cold', 'Cold', 'Moderate',\n",
        "                  'Moderate', 'Hot', 'Hot', 'Hot', 'Very Hot', 'Very Hot', 'Very Hot',\n",
        "                  'Very Hot', 'Very Hot']}\n",
        "df = pd.DataFrame(data)\n",
        "\n",
        "X = df[['Temperature']]\n",
        "y = df['Label']\n",
        "\n",
        "# splitting in train and test\n",
        "X_train, X_test, y_train, y_test = train_test_split(X, y, test_size=0.2, random_state=42)\n",
        "\n",
        "# initializing the model\n",
        "rf_classifier = RandomForestClassifier(n_estimators=100, random_state=42)\n",
        "#n_estimators=100 means that the random forest will consist of 100 decision trees.\n",
        "\n",
        "# Training the model\n",
        "rf_classifier.fit(X_train, y_train)\n",
        "\n",
        "\n",
        "y_pred = rf_classifier.predict(X_test)\n",
        "\n",
        "# Calculate accuracy\n",
        "accuracy = accuracy_score(y_test, y_pred)\n",
        "print(f'Accuracy: {accuracy}')\n",
        "\n",
        "# User input for temperature classification\n",
        "user_temp = float(input(\"Enter the temperature to classify (e.g., 15): \"))\n",
        "user_data = {'Temperature': [user_temp]}\n",
        "user_df = pd.DataFrame(user_data)\n",
        "\n",
        "\n",
        "prediction = rf_classifier.predict(user_df)\n",
        "print(f'Prediction for temperature {user_temp}: {prediction}')\n"
      ]
    },
    {
      "cell_type": "code",
      "source": [],
      "metadata": {
        "id": "VU2LtQ1zMbX6"
      },
      "execution_count": null,
      "outputs": []
    }
  ]
}