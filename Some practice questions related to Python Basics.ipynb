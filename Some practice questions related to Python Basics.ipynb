{
  "nbformat": 4,
  "nbformat_minor": 0,
  "metadata": {
    "colab": {
      "provenance": [],
      "authorship_tag": "ABX9TyMRGlDzIJN14V4QffWdVjZf",
      "include_colab_link": true
    },
    "kernelspec": {
      "name": "python3",
      "display_name": "Python 3"
    },
    "language_info": {
      "name": "python"
    }
  },
  "cells": [
    {
      "cell_type": "markdown",
      "metadata": {
        "id": "view-in-github",
        "colab_type": "text"
      },
      "source": [
        "<a href=\"https://colab.research.google.com/github/aeyjeyaryan/Python_ML/blob/main/Some%20practice%20questions%20related%20to%20Python%20Basics.ipynb\" target=\"_parent\"><img src=\"https://colab.research.google.com/assets/colab-badge.svg\" alt=\"Open In Colab\"/></a>"
      ]
    },
    {
      "cell_type": "code",
      "execution_count": null,
      "metadata": {
        "colab": {
          "base_uri": "https://localhost:8080/"
        },
        "id": "nl1d-bSxPn_9",
        "outputId": "dac34c64-6d67-4c74-c5b5-86691f2394d7"
      },
      "outputs": [
        {
          "output_type": "stream",
          "name": "stdout",
          "text": [
            "enter the temperature in celsius : 13\n",
            "55.4\n"
          ]
        }
      ],
      "source": [
        "C = int(input(\"enter the temperature in celsius : \"))\n",
        "f = (C*9/5)+32\n",
        "print(f)"
      ]
    },
    {
      "cell_type": "code",
      "source": [
        "x = 3\n",
        "y = 5\n",
        "swap = (x+y)-x\n",
        "swap1 = (y+x)-y\n",
        "print(swap)\n",
        "print(swap1)"
      ],
      "metadata": {
        "colab": {
          "base_uri": "https://localhost:8080/"
        },
        "id": "rFGb96qqQmKE",
        "outputId": "7ff56e86-2a68-4028-f796-a269b802e548"
      },
      "execution_count": null,
      "outputs": [
        {
          "output_type": "stream",
          "name": "stdout",
          "text": [
            "5\n",
            "3\n"
          ]
        }
      ]
    },
    {
      "cell_type": "code",
      "source": [
        "for i in range(1500+1,2700+1):\n",
        "  if i%5 == 0:\n",
        "    if i%7 == 0:\n",
        "        print(i)"
      ],
      "metadata": {
        "colab": {
          "base_uri": "https://localhost:8080/"
        },
        "id": "ByKjHicfRQ3y",
        "outputId": "30f295b8-38c6-42fd-bbac-0f8337d6d968"
      },
      "execution_count": null,
      "outputs": [
        {
          "output_type": "stream",
          "name": "stdout",
          "text": [
            "1505\n",
            "1540\n",
            "1575\n",
            "1610\n",
            "1645\n",
            "1680\n",
            "1715\n",
            "1750\n",
            "1785\n",
            "1820\n",
            "1855\n",
            "1890\n",
            "1925\n",
            "1960\n",
            "1995\n",
            "2030\n",
            "2065\n",
            "2100\n",
            "2135\n",
            "2170\n",
            "2205\n",
            "2240\n",
            "2275\n",
            "2310\n",
            "2345\n",
            "2380\n",
            "2415\n",
            "2450\n",
            "2485\n",
            "2520\n",
            "2555\n",
            "2590\n",
            "2625\n",
            "2660\n",
            "2695\n"
          ]
        }
      ]
    },
    {
      "cell_type": "code",
      "source": [
        "x = eval(input(\"enter the number \"))\n",
        "fact = 1\n",
        "for i in range (1,x+1):\n",
        "  fact=fact*i\n",
        "print(fact)"
      ],
      "metadata": {
        "colab": {
          "base_uri": "https://localhost:8080/"
        },
        "id": "pcmW2sN3RdQx",
        "outputId": "e1e61b99-64d0-42f7-b571-7fbec4673468"
      },
      "execution_count": null,
      "outputs": [
        {
          "output_type": "stream",
          "name": "stdout",
          "text": [
            "enter the number 5\n",
            "120\n"
          ]
        }
      ]
    },
    {
      "cell_type": "code",
      "source": [
        "x = 1234\n",
        "x1 = x\n",
        "rev = 0\n",
        "while x>0:\n",
        "  rev=(rev*10)+(x%10)\n",
        "  x=x//10\n",
        "print(rev)"
      ],
      "metadata": {
        "colab": {
          "base_uri": "https://localhost:8080/"
        },
        "id": "27eTpvLOSdYI",
        "outputId": "23fde037-a1c1-4807-f947-b0a3d001297e"
      },
      "execution_count": null,
      "outputs": [
        {
          "output_type": "stream",
          "name": "stdout",
          "text": [
            "4321\n"
          ]
        }
      ]
    },
    {
      "cell_type": "code",
      "source": [
        "x = int(input(\"enter the number of terms\"))\n",
        "a = 0\n",
        "b = 1\n",
        "if x<=0:\n",
        "  print(a)\n",
        "else:\n",
        "  print(a,b, end=\" \")\n",
        "  for i in range (2,x+1):\n",
        "      c=a+b\n",
        "      print(c, end=\" \")\n",
        "      a=b\n",
        "      b=c"
      ],
      "metadata": {
        "colab": {
          "base_uri": "https://localhost:8080/"
        },
        "id": "nHZbSvd8S-hR",
        "outputId": "762e1b9e-f82c-4218-f209-93c24e5e0fb3"
      },
      "execution_count": null,
      "outputs": [
        {
          "output_type": "stream",
          "name": "stdout",
          "text": [
            "enter the number of terms5\n",
            "0 1 1 2 3 5 "
          ]
        }
      ]
    },
    {
      "cell_type": "code",
      "source": [
        "#sheet 2\n",
        "x = \"python\"\n",
        "for i in x:\n",
        "  if i in \"A,E,I,O,U,a,e,i,o,u\":\n",
        "    print(i)"
      ],
      "metadata": {
        "colab": {
          "base_uri": "https://localhost:8080/"
        },
        "id": "V0rw15COTcHd",
        "outputId": "fc15b319-5f5a-4dd3-9938-1aeccb774d31"
      },
      "execution_count": null,
      "outputs": [
        {
          "output_type": "stream",
          "name": "stdout",
          "text": [
            "o\n"
          ]
        }
      ]
    },
    {
      "cell_type": "code",
      "source": [
        "  x=str(input(\"enter the word to know : \"))\n",
        "  for i in enumerate(x):\n",
        "    print(i)"
      ],
      "metadata": {
        "colab": {
          "base_uri": "https://localhost:8080/"
        },
        "id": "ZivjOm-bU1k_",
        "outputId": "bde4415c-202a-4798-bde0-4c4f1228e471"
      },
      "execution_count": null,
      "outputs": [
        {
          "output_type": "stream",
          "name": "stdout",
          "text": [
            "enter the word to know : python\n",
            "(0, 'p')\n",
            "(1, 'y')\n",
            "(2, 't')\n",
            "(3, 'h')\n",
            "(4, 'o')\n",
            "(5, 'n')\n"
          ]
        }
      ]
    },
    {
      "cell_type": "code",
      "source": [
        "#lists\n",
        "fruits = [\"apple\",\"banana\",\"cherry\",\"berry\"]\n",
        "fruits.append(\"lychee\")\n",
        "print(fruits)\n",
        "fruits.pop(1)\n",
        "print(fruits)\n",
        "print(fruits[0])\n",
        "print(fruits[3])"
      ],
      "metadata": {
        "id": "cfsJbwZZXEBG",
        "colab": {
          "base_uri": "https://localhost:8080/"
        },
        "outputId": "3a89f3ff-6162-4c89-88fe-d10c7a382f62"
      },
      "execution_count": null,
      "outputs": [
        {
          "output_type": "stream",
          "name": "stdout",
          "text": [
            "['apple', 'banana', 'cherry', 'berry', 'lychee']\n",
            "['apple', 'cherry', 'berry', 'lychee']\n",
            "apple\n",
            "lychee\n"
          ]
        }
      ]
    },
    {
      "cell_type": "code",
      "source": [
        "a = (1, 2, 3, 4, 5)\n",
        "b = [1, 2, 3, 4, 5]\n",
        "\n",
        "a_list = list(a)\n",
        "index_to_replace = a_list.index(2)\n",
        "a_list.pop(index_to_replace)\n",
        "a_list.insert(index_to_replace, tuple(b))\n",
        "\n",
        "resulting_tuple = tuple(a_list)\n",
        "\n",
        "print(resulting_tuple)"
      ],
      "metadata": {
        "id": "pE4J_r5rafOu",
        "colab": {
          "base_uri": "https://localhost:8080/"
        },
        "outputId": "8cce5fd6-802f-487f-abe5-adbe4d486a44"
      },
      "execution_count": null,
      "outputs": [
        {
          "output_type": "stream",
          "name": "stdout",
          "text": [
            "(1, (1, 2, 3, 4, 5), 3, 4, 5)\n"
          ]
        }
      ]
    },
    {
      "cell_type": "code",
      "source": [
        "fruits = [\"apple\",\"cherry\",\"berry\",\"peach\"]\n",
        "fruits.append(\"lychee\")\n",
        "print(fruits)\n",
        "fruits.pop(2)\n",
        "print(fruits)\n",
        "for i in fruits:\n",
        "  if i == \"apple\" or i == \"peach\":\n",
        "    print(i)"
      ],
      "metadata": {
        "colab": {
          "base_uri": "https://localhost:8080/"
        },
        "id": "cjbyWP4idYHR",
        "outputId": "b4a67d83-acf9-4bbe-ea74-be08963781ec"
      },
      "execution_count": null,
      "outputs": [
        {
          "output_type": "stream",
          "name": "stdout",
          "text": [
            "['apple', 'cherry', 'berry', 'peach', 'lychee']\n",
            "['apple', 'cherry', 'peach', 'lychee']\n",
            "apple\n",
            "peach\n"
          ]
        }
      ]
    },
    {
      "cell_type": "code",
      "source": [
        "class Students:\n",
        "  def __init__(self,name,address,roll): #self is the object whih is to be print\n",
        "     self.name = name\n",
        "     self.address = address\n",
        "     self.roll = roll\n",
        "\n",
        "Aryan = Students(\"Aryan\",\"Nepal\",\"1123231\")\n",
        "Ayan = Students(\"Ayan\",\"Bhutan\",\"123124324\")\n",
        "\n",
        "print(Aryan.name, Ayan.name)"
      ],
      "metadata": {
        "id": "Whe5vovvdYsi",
        "colab": {
          "base_uri": "https://localhost:8080/"
        },
        "outputId": "ccd255e3-59c9-4e20-d00c-9e3b027359dd"
      },
      "execution_count": null,
      "outputs": [
        {
          "output_type": "stream",
          "name": "stdout",
          "text": [
            "Aryan Ayan\n"
          ]
        }
      ]
    },
    {
      "cell_type": "code",
      "source": [
        "class Student:   #class\n",
        "\n",
        "    name = \"\"    #attributes\n",
        "    age = 0\n",
        "    roll = 1\n",
        "\n",
        "student1 = Student()  #object\n",
        "student1.name = \"Joe\"\n",
        "student1.age = 18\n",
        "\n",
        "\n",
        "student2 = Student()     #object\n",
        "student2.name = \"William\"\n",
        "student2.age = 15\n",
        "\n",
        "\n",
        "print(student1.name,student1.age)\n",
        "print(student2.name,student2.age)"
      ],
      "metadata": {
        "id": "ba0popNaYunO",
        "colab": {
          "base_uri": "https://localhost:8080/"
        },
        "outputId": "08995cd3-4ac7-4578-bb1c-2262d851eed3"
      },
      "execution_count": null,
      "outputs": [
        {
          "output_type": "stream",
          "name": "stdout",
          "text": [
            "Joe 18\n",
            "William 15\n"
          ]
        }
      ]
    },
    {
      "cell_type": "code",
      "source": [],
      "metadata": {
        "id": "Jh-GBKZA_x6G"
      },
      "execution_count": null,
      "outputs": []
    },
    {
      "cell_type": "code",
      "source": [
        "class student:\n",
        "  def __init__(self,name,age,roll):\n",
        "    self.name = name\n",
        "    self.age = age\n",
        "    self.roll = roll\n",
        "student1=student(\"Joe\",18,112324)\n",
        "student2=student(\"William\",15,1124324)\n",
        "\n",
        "print(student1.age,student1.name)\n",
        "print(student2.name,student2.age)"
      ],
      "metadata": {
        "colab": {
          "base_uri": "https://localhost:8080/"
        },
        "id": "0j-Fg8kihXfw",
        "outputId": "5e9b91cb-1755-415c-eb35-f4ac6f675434"
      },
      "execution_count": null,
      "outputs": [
        {
          "output_type": "stream",
          "name": "stdout",
          "text": [
            "18 Joe\n",
            "William 15\n"
          ]
        }
      ]
    },
    {
      "cell_type": "code",
      "source": [
        "x = {\"boy\":\"a male human\",\"girl\":\"a female human\"}\n",
        "print(x[\"boy\"])\n",
        "print(x[\"girl\"])\n",
        "print(x.get(\"boy\"))\n",
        "print(x.pop(\"boy\"))\n"
      ],
      "metadata": {
        "colab": {
          "base_uri": "https://localhost:8080/"
        },
        "id": "XLHGRBigh6rF",
        "outputId": "c7f79b65-e661-41f3-d6c2-4cb7ae3fd23e"
      },
      "execution_count": null,
      "outputs": [
        {
          "output_type": "stream",
          "name": "stdout",
          "text": [
            "a male human\n",
            "a female human\n",
            "a male human\n",
            "a male human\n"
          ]
        }
      ]
    },
    {
      "cell_type": "code",
      "source": [
        "class animals:\n",
        "  def __init__(self,name,kingdom,sound):\n",
        "    self.name = name\n",
        "    self.kingdom = kingdom\n",
        "    self.sound = sound\n",
        "parrot=animals(\"Parrot\",\"Aves\",\"Cry\")\n",
        "cow=animals(\"Cow\",\"Mammalia\",\"Mow\")\n",
        "\n",
        "print(parrot.name,parrot.kingdom,parrot.sound)\n",
        "print(cow.name,cow.kingdom,cow.sound)"
      ],
      "metadata": {
        "colab": {
          "base_uri": "https://localhost:8080/"
        },
        "id": "ruEhOipEjS4T",
        "outputId": "6583b317-0b23-493c-e88b-c5f845da84cb"
      },
      "execution_count": null,
      "outputs": [
        {
          "output_type": "stream",
          "name": "stdout",
          "text": [
            "Parrot Aves Cry\n",
            "Cow Mammalia Mow\n"
          ]
        }
      ]
    },
    {
      "cell_type": "code",
      "source": [
        "class circle:\n",
        "  radius = 0.0\n",
        "  pie = 0.0\n",
        "\n",
        "  def calculate_area(self):\n",
        "    print(\"area=\", self.radius*self.radius*self.pie)\n",
        "  def calculate_perimeter(self):\n",
        "    print(\"perimeter=\", 2*self.pie*self.radius*self.radius)\n",
        "\n",
        "circle = circle()\n",
        "\n",
        "circle.radius = eval(input(\"enter the radius of the circle : \"))\n",
        "circle.pie = 3.14\n",
        "\n",
        "circle.calculate_area()\n",
        "circle.calculate_perimeter()\n"
      ],
      "metadata": {
        "colab": {
          "base_uri": "https://localhost:8080/"
        },
        "id": "lBKDzCjfl9XV",
        "outputId": "7d41472b-de47-4fe5-ad39-3f3e0beea4ee"
      },
      "execution_count": null,
      "outputs": [
        {
          "output_type": "stream",
          "name": "stdout",
          "text": [
            "enter the radius of the circle : 20\n",
            "area= 1256.0\n",
            "perimeter= 2512.0\n"
          ]
        }
      ]
    },
    {
      "cell_type": "code",
      "source": [
        "Name = input(\"enter your name \")\n",
        "Country = input(\"enter you country \")\n",
        "DOB = input(\"enter your date of birth in years : \")\n",
        "class person:\n",
        "  def __init__(self,name,country,dob):\n",
        "    self.name = name\n",
        "    self.country = country\n",
        "    self.dob = int(dob)\n",
        "  def calculate_age(self):\n",
        "    print(2023-self.dob)\n",
        "\n",
        "x = person(Name,Country,DOB)\n",
        "\n",
        "person.calculate_age(x)"
      ],
      "metadata": {
        "colab": {
          "base_uri": "https://localhost:8080/"
        },
        "id": "td1Rkqizn-0d",
        "outputId": "48e5d376-fbee-49ee-83e1-da61fb67451f"
      },
      "execution_count": null,
      "outputs": [
        {
          "output_type": "stream",
          "name": "stdout",
          "text": [
            "enter your name Aryan\n",
            "enter you country Nepa,\n",
            "enter your date of birth in years : 1998\n",
            "25\n"
          ]
        }
      ]
    },
    {
      "cell_type": "code",
      "source": [
        "class Dogs:\n",
        "  def __init__(self,name,breed):\n",
        "    self.name = name\n",
        "    self.breed = breed\n",
        "rex=Dogs(\"Rex\",\"German Shepherd\")\n",
        "buddy=Dogs(\"Buddy\",\"Labrador\")\n",
        "\n",
        "print(rex.name,rex.breed)\n",
        "print(f\"{buddy.name} is a {buddy.breed}\")"
      ],
      "metadata": {
        "id": "uCccWhlQ7GAl",
        "colab": {
          "base_uri": "https://localhost:8080/"
        },
        "outputId": "f7f83f2e-1907-483b-fcd7-823c4052f074"
      },
      "execution_count": null,
      "outputs": [
        {
          "output_type": "stream",
          "name": "stdout",
          "text": [
            "Rex German Shepherd\n",
            "Buddy is a Labrador\n"
          ]
        }
      ]
    },
    {
      "cell_type": "code",
      "source": [
        "import random\n"
      ],
      "metadata": {
        "id": "TRmh7bhlL2sE"
      },
      "execution_count": null,
      "outputs": []
    }
  ]
}