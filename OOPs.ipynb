{
  "nbformat": 4,
  "nbformat_minor": 0,
  "metadata": {
    "colab": {
      "provenance": [],
      "authorship_tag": "ABX9TyMFNaC6pkXv/7MFAEofyRzG",
      "include_colab_link": true
    },
    "kernelspec": {
      "name": "python3",
      "display_name": "Python 3"
    },
    "language_info": {
      "name": "python"
    }
  },
  "cells": [
    {
      "cell_type": "markdown",
      "metadata": {
        "id": "view-in-github",
        "colab_type": "text"
      },
      "source": [
        "<a href=\"https://colab.research.google.com/github/aeyjeyaryan/Python_ML/blob/main/OOPs.ipynb\" target=\"_parent\"><img src=\"https://colab.research.google.com/assets/colab-badge.svg\" alt=\"Open In Colab\"/></a>"
      ]
    },
    {
      "cell_type": "code",
      "execution_count": null,
      "metadata": {
        "colab": {
          "base_uri": "https://localhost:8080/"
        },
        "id": "CNZk2atgliMj",
        "outputId": "b0f1eeaa-2fed-45c4-994e-7b4c3837bf4f"
      },
      "outputs": [
        {
          "output_type": "stream",
          "name": "stdout",
          "text": [
            "Aryan Ayan\n"
          ]
        }
      ],
      "source": [
        "class Students:\n",
        "  def __init__(self,name,address,roll): #self is the object whih is to be print\n",
        "     self.name = name\n",
        "     self.address = address\n",
        "     self.roll = roll\n",
        "\n",
        "Aryan = Students(\"Aryan\",\"Nepal\",\"1123231\")\n",
        "Ayan = Students(\"Ayan\",\"Bhutan\",\"123124324\")\n",
        "\n",
        "print(Aryan.name, Ayan.name)"
      ]
    },
    {
      "cell_type": "code",
      "source": [
        "class Student:   #class\n",
        "\n",
        "    name = \"\"    #attributes\n",
        "    age = 0\n",
        "    roll = 1\n",
        "\n",
        "student1 = Student()  #object\n",
        "student1.name = \"Joe\"\n",
        "student1.age = 18\n",
        "\n",
        "\n",
        "student2 = Student()     #object\n",
        "student2.name = \"William\"\n",
        "student2.age = 15\n",
        "\n",
        "\n",
        "print(student1.name,student1.age)\n",
        "print(student2.name,student2.age)"
      ],
      "metadata": {
        "colab": {
          "base_uri": "https://localhost:8080/"
        },
        "id": "uFYcvtufljLR",
        "outputId": "56d7a7f7-93f1-4242-ed6b-bd05d3de35c0"
      },
      "execution_count": null,
      "outputs": [
        {
          "output_type": "stream",
          "name": "stdout",
          "text": [
            "Joe 18\n",
            "William 15\n"
          ]
        }
      ]
    },
    {
      "cell_type": "code",
      "source": [
        "class student:\n",
        "  def __init__(self,name,age,roll):\n",
        "    self.name = name\n",
        "    self.age = age\n",
        "    self.roll = roll\n",
        "student1=student(\"Joe\",18,112324)\n",
        "student2=student(\"William\",15,1124324)\n",
        "\n",
        "print(student1.age,student1.name)\n",
        "print(student2.name,student2.age)"
      ],
      "metadata": {
        "colab": {
          "base_uri": "https://localhost:8080/"
        },
        "id": "xu6YoX86ln_l",
        "outputId": "5f4b04aa-b1b1-4109-c828-06433bffa7b9"
      },
      "execution_count": null,
      "outputs": [
        {
          "output_type": "stream",
          "name": "stdout",
          "text": [
            "18 Joe\n",
            "William 15\n"
          ]
        }
      ]
    },
    {
      "cell_type": "code",
      "source": [
        "class animals:\n",
        "  def __init__(self,name,kingdom,sound):\n",
        "    self.name = name\n",
        "    self.kingdom = kingdom\n",
        "    self.sound = sound\n",
        "parrot=animals(\"Parrot\",\"Aves\",\"Cry\")\n",
        "cow=animals(\"Cow\",\"Mammalia\",\"Mow\")\n",
        "\n",
        "print(parrot.name,parrot.kingdom,parrot.sound)\n",
        "print(cow.name,cow.kingdom,cow.sound)"
      ],
      "metadata": {
        "colab": {
          "base_uri": "https://localhost:8080/"
        },
        "id": "WVgCzI67lsd8",
        "outputId": "05d8b424-d983-48ee-e94c-2be72ffe6f92"
      },
      "execution_count": null,
      "outputs": [
        {
          "output_type": "stream",
          "name": "stdout",
          "text": [
            "Parrot Aves Cry\n",
            "Cow Mammalia Mow\n"
          ]
        }
      ]
    },
    {
      "cell_type": "code",
      "source": [
        "class circle:\n",
        "  radius = 0.0\n",
        "  pie = 0.0\n",
        "\n",
        "  def calculate_area(self):\n",
        "    print(\"area=\", self.radius*self.radius*self.pie)\n",
        "  def calculate_perimeter(self):\n",
        "    print(\"perimeter=\", 2*self.pie*self.radius*self.radius)\n",
        "\n",
        "circle = circle()\n",
        "\n",
        "circle.radius = eval(input(\"enter the radius of the circle : \"))\n",
        "circle.pie = 3.14\n",
        "\n",
        "circle.calculate_area()\n",
        "circle.calculate_perimeter()"
      ],
      "metadata": {
        "colab": {
          "base_uri": "https://localhost:8080/"
        },
        "id": "C4UV37NOlzGa",
        "outputId": "3435dd87-b417-463f-8aaa-b90804d0e149"
      },
      "execution_count": null,
      "outputs": [
        {
          "output_type": "stream",
          "name": "stdout",
          "text": [
            "enter the radius of the circle : 5\n",
            "area= 78.5\n",
            "perimeter= 157.0\n"
          ]
        }
      ]
    },
    {
      "cell_type": "code",
      "source": [
        "Name = input(\"enter your name \")\n",
        "Country = input(\"enter you country \")\n",
        "DOB = input(\"enter your date of birth in years : \")\n",
        "class person:\n",
        "  def __init__(self,name,country,dob):\n",
        "    self.name = name\n",
        "    self.country = country\n",
        "    self.dob = int(dob)\n",
        "  def calculate_age(self):\n",
        "    print(2023-self.dob)\n",
        "\n",
        "x = person(Name,Country,DOB)\n",
        "\n",
        "person.calculate_age(x)"
      ],
      "metadata": {
        "colab": {
          "base_uri": "https://localhost:8080/"
        },
        "id": "HlnxfKFYl2y-",
        "outputId": "d498b342-bf54-4ecd-a368-0c0f84b63db6"
      },
      "execution_count": null,
      "outputs": [
        {
          "output_type": "stream",
          "name": "stdout",
          "text": [
            "enter your name aryan\n",
            "enter you country nepal\n",
            "enter your date of birth in years : 2005\n",
            "18\n"
          ]
        }
      ]
    },
    {
      "cell_type": "code",
      "source": [
        "class Dogs:\n",
        "  def __init__(self,name,breed):\n",
        "    self.name = name\n",
        "    self.breed = breed\n",
        "rex=Dogs(\"Rex\",\"German Shepherd\")\n",
        "buddy=Dogs(\"Buddy\",\"Labrador\")\n",
        "\n",
        "print(rex.name,rex.breed)\n",
        "print(f\"{buddy.name} is a {buddy.breed}\")"
      ],
      "metadata": {
        "colab": {
          "base_uri": "https://localhost:8080/"
        },
        "id": "7GeXQ9Wnl7sJ",
        "outputId": "7ebe42c1-4516-4c3d-eba9-9682daddfaf9"
      },
      "execution_count": null,
      "outputs": [
        {
          "output_type": "stream",
          "name": "stdout",
          "text": [
            "Rex German Shepherd\n",
            "Buddy is a Labrador\n"
          ]
        }
      ]
    },
    {
      "cell_type": "code",
      "source": [
        "class Elon:\n",
        "  work = \"\"\n",
        "  def job(self):\n",
        "    print(\"The work is done!\")\n",
        "\n",
        "class Company(Elon):\n",
        "  def x(self):\n",
        "    print(\"The work is to\",self.work)\n",
        "\n",
        "Neuralink = Company()\n",
        "\n",
        "Neuralink.work = \"work on chip systems\"\n",
        "Neuralink.job()\n",
        "\n",
        "Neuralink.x()"
      ],
      "metadata": {
        "id": "RtYtI1bsmEwu",
        "colab": {
          "base_uri": "https://localhost:8080/"
        },
        "outputId": "1f4e3433-0ce3-4cad-c1c5-61999b38fe33"
      },
      "execution_count": null,
      "outputs": [
        {
          "output_type": "stream",
          "name": "stdout",
          "text": [
            "The work is done!\n",
            "The work is to work on chip systems\n"
          ]
        }
      ]
    },
    {
      "cell_type": "code",
      "source": [
        "class vehicles:\n",
        "  type = \"\"\n",
        "  def work(self):\n",
        "    print(\"I run on roads\")\n",
        "\n",
        "class kind(vehicles):\n",
        "  def y(self):\n",
        "    print(\"Yes I am a vehicle and I am\",self.type)\n",
        "\n",
        "School_bus = kind()\n",
        "\n",
        "School_bus.type = \"Bus\"\n",
        "School_bus.work()\n",
        "\n",
        "School_bus.y()"
      ],
      "metadata": {
        "colab": {
          "base_uri": "https://localhost:8080/"
        },
        "id": "YvTNt0zN-SYj",
        "outputId": "164d6b3a-e0f7-4655-fa3f-3166e6a2fe22"
      },
      "execution_count": null,
      "outputs": [
        {
          "output_type": "stream",
          "name": "stdout",
          "text": [
            "I run on roads\n",
            "Yes I am a vehicle and I am Bus\n"
          ]
        }
      ]
    },
    {
      "cell_type": "code",
      "source": [
        "class Vehicle:\n",
        "  def __init__(self,name,mileage,capacity):\n",
        "    self.name = name\n",
        "    self.mileage = mileage\n",
        "    self.capacity = capacity\n",
        "\n",
        "  def fare(self):\n",
        "      return self.capacity*100\n",
        "\n",
        "class Bus(Vehicle):\n",
        "  pass\n",
        "\n",
        "class Car(Vehicle):\n",
        "  pass\n",
        "\n",
        "\n",
        "\n",
        "\n",
        "Private_car = Car(\"Lambo\",14,25)\n",
        "School_bus = Bus(\"Creta\", 12, 52)\n",
        "print(\"total fare is:\", Private_car.fare())\n",
        "print(\"total fare is:\", School_bus.fare())"
      ],
      "metadata": {
        "colab": {
          "base_uri": "https://localhost:8080/"
        },
        "id": "eK_cHdVDAFwb",
        "outputId": "62dd432d-1ced-4ef4-d4e2-db0177fa6987"
      },
      "execution_count": null,
      "outputs": [
        {
          "output_type": "stream",
          "name": "stdout",
          "text": [
            "total fare is: 2500\n",
            "total fare is: 5200\n"
          ]
        }
      ]
    },
    {
      "cell_type": "code",
      "source": [
        "x = 5\n",
        "\n",
        "def conditional_return(x):\n",
        "    if x > 0:\n",
        "        return \"Positive\"\n",
        "    elif x < 0:\n",
        "        return \"Negative\"\n",
        "    else:\n",
        "        return \"Zero\"\n",
        "\n",
        "conditional_return(x)"
      ],
      "metadata": {
        "colab": {
          "base_uri": "https://localhost:8080/",
          "height": 35
        },
        "id": "FIz5XQqJBQwX",
        "outputId": "6a30914b-4fa0-4964-b516-4627f067b912"
      },
      "execution_count": null,
      "outputs": [
        {
          "output_type": "execute_result",
          "data": {
            "text/plain": [
              "'Positive'"
            ],
            "application/vnd.google.colaboratory.intrinsic+json": {
              "type": "string"
            }
          },
          "metadata": {},
          "execution_count": 15
        }
      ]
    },
    {
      "cell_type": "code",
      "source": [
        "#using super()\n",
        "\n",
        "class Friend1:\n",
        "  def greet(self):\n",
        "    print(\"good morning\")\n",
        "\n",
        "class Friend2(Friend1):\n",
        "  def greet(self):\n",
        "    super().greet()\n",
        "    print(\"good morning to you too\")\n",
        "Friend2 = Friend2()\n",
        "Friend2.greet()"
      ],
      "metadata": {
        "colab": {
          "base_uri": "https://localhost:8080/"
        },
        "id": "2mxIa1xqBRXe",
        "outputId": "cccdd26c-04c0-4a79-b122-699c475c38be"
      },
      "execution_count": null,
      "outputs": [
        {
          "output_type": "stream",
          "name": "stdout",
          "text": [
            "good morning\n",
            "good morning to you too\n"
          ]
        }
      ]
    },
    {
      "cell_type": "code",
      "source": [
        "class car:\n",
        "  def __init__(self,name,brand,fuel_type,engine_cap,seats):\n",
        "    self.fuel_type = fuel_type\n",
        "    self.seats = seats\n",
        "    self.name = name\n",
        "    self.brand = brand\n",
        "    self.engine_cap = engine_cap\n",
        "\n",
        "  def show_basic_details(self):\n",
        "    print(\"---------------------\")\n",
        "    print(\"| Name - \",self.name)\n",
        "    print(\"---------------------\")\n",
        "    print(\"| Brand - \",self.brand)\n",
        "    print(\"---------------------\")\n",
        "\n",
        "  def show_all_details(self):\n",
        "    print(\"| Name - \",self.name)\n",
        "    print(\"| Brand - \",self.brand)\n",
        "    print(\"| Fuel Type - \",self.fuel_type)\n",
        "    print(\"| Engine CC - \",self.engine_cap)\n",
        "    print(\"| Seats - \",self.seats)\n",
        "\n",
        "  def set_brand(self,new_brand):\n",
        "    self.brand = new_brand\n",
        "\n",
        "  def set_name(self,new_name):\n",
        "    self.name = new_name"
      ],
      "metadata": {
        "id": "fvlDp56vHrC-"
      },
      "execution_count": null,
      "outputs": []
    },
    {
      "cell_type": "code",
      "source": [
        "magnite = car(name='Magnite',brand='Nissan',fuel_type='Petrol',engine_cap='1000 CC',seats=5)"
      ],
      "metadata": {
        "id": "4KUBYfBHH0wV"
      },
      "execution_count": null,
      "outputs": []
    },
    {
      "cell_type": "code",
      "source": [
        "magnite.show_all_details()"
      ],
      "metadata": {
        "colab": {
          "base_uri": "https://localhost:8080/"
        },
        "id": "xk2FlL_rH1kp",
        "outputId": "b0fc7140-71c2-4383-fa01-cd3a21921175"
      },
      "execution_count": null,
      "outputs": [
        {
          "output_type": "stream",
          "name": "stdout",
          "text": [
            "| Name -  Magnite\n",
            "| Brand -  Nissan\n",
            "| Fuel Type -  Petrol\n",
            "| Engine CC -  1000 CC\n",
            "| Seats -  5\n"
          ]
        }
      ]
    },
    {
      "cell_type": "code",
      "source": [
        "baleno = car(name='Baleno',brand='Maruti Suzuki',fuel_type='Petrol',engine_cap='1200 CC',seats=5)"
      ],
      "metadata": {
        "id": "ke0MSQnTH9wM"
      },
      "execution_count": null,
      "outputs": []
    },
    {
      "cell_type": "code",
      "source": [
        "glanza = baleno"
      ],
      "metadata": {
        "id": "ghJwtubBH-jW"
      },
      "execution_count": null,
      "outputs": []
    },
    {
      "cell_type": "code",
      "source": [
        "glanza.show_all_details()"
      ],
      "metadata": {
        "colab": {
          "base_uri": "https://localhost:8080/"
        },
        "id": "7qKfUN_yIDXX",
        "outputId": "9274cdb5-9c56-46a8-832c-e86c807aa6e9"
      },
      "execution_count": null,
      "outputs": [
        {
          "output_type": "stream",
          "name": "stdout",
          "text": [
            "| Name -  Baleno\n",
            "| Brand -  Maruti Suzuki\n",
            "| Fuel Type -  Petrol\n",
            "| Engine CC -  1200 CC\n",
            "| Seats -  5\n"
          ]
        }
      ]
    },
    {
      "cell_type": "code",
      "source": [
        "glanza.set_brand(\"Toyota\")\n",
        "glanza.set_name(\"Glanza\")"
      ],
      "metadata": {
        "id": "gs2mP62UIIGd"
      },
      "execution_count": null,
      "outputs": []
    },
    {
      "cell_type": "code",
      "source": [
        "glanza.show_all_details()"
      ],
      "metadata": {
        "colab": {
          "base_uri": "https://localhost:8080/"
        },
        "id": "ipM4STosIBYG",
        "outputId": "49b17f07-cbc6-4c29-ff64-bf649ceea92c"
      },
      "execution_count": null,
      "outputs": [
        {
          "output_type": "stream",
          "name": "stdout",
          "text": [
            "| Name -  Glanza\n",
            "| Brand -  Toyota\n",
            "| Fuel Type -  Petrol\n",
            "| Engine CC -  1200 CC\n",
            "| Seats -  5\n"
          ]
        }
      ]
    },
    {
      "cell_type": "code",
      "source": [
        "def add(a,b):\n",
        "  return a+b\n",
        "print(add(3,4))\n",
        "print(\"coding\",\"ninjas\")"
      ],
      "metadata": {
        "id": "14oUUC-qD6bU",
        "colab": {
          "base_uri": "https://localhost:8080/"
        },
        "outputId": "55af04bd-a7f4-45d0-88fb-62d1da41d396"
      },
      "execution_count": null,
      "outputs": [
        {
          "output_type": "stream",
          "name": "stdout",
          "text": [
            "7\n",
            "coding ninjas\n"
          ]
        }
      ]
    },
    {
      "cell_type": "code",
      "source": [
        "#polymorphism in operators\n",
        "\n",
        "x = 5\n",
        "y = 5\n",
        "print(x+y)\n",
        "\n",
        "x1 = \"5\"\n",
        "x2 = \"2\"\n",
        "print(x1+x2)"
      ],
      "metadata": {
        "id": "sg383fmwu6Bg",
        "colab": {
          "base_uri": "https://localhost:8080/"
        },
        "outputId": "1b5c7907-d813-48a4-de99-86f95359e53f"
      },
      "execution_count": null,
      "outputs": [
        {
          "output_type": "stream",
          "name": "stdout",
          "text": [
            "10\n",
            "52\n"
          ]
        }
      ]
    },
    {
      "cell_type": "code",
      "source": [
        "#polymorphism\n",
        "class Car():\n",
        "\n",
        "     def wheels(self):\n",
        "\n",
        "       print(4)\n",
        "\n",
        "     def type(self):\n",
        "\n",
        "       print(\"Private Use\")\n",
        "\n",
        "class Bus():\n",
        "\n",
        "     def wheels(self):\n",
        "\n",
        "       print(8)\n",
        "\n",
        "     def type(self):\n",
        "\n",
        "       print(\"Public Use\")\n",
        "\n",
        "car = Car()\n",
        "\n",
        "bus = Bus()\n",
        "\n",
        "for vehicle in (car,bus):\n",
        "\n",
        "    vehicle.wheels()\n",
        "\n",
        "    vehicle.type()"
      ],
      "metadata": {
        "colab": {
          "base_uri": "https://localhost:8080/"
        },
        "id": "VnxlDJLwFUZh",
        "outputId": "dfe7d3d2-ffaa-4b11-d35c-02d715fac114"
      },
      "execution_count": null,
      "outputs": [
        {
          "output_type": "stream",
          "name": "stdout",
          "text": [
            "4\n",
            "Private Use\n",
            "8\n",
            "Public Use\n"
          ]
        }
      ]
    },
    {
      "cell_type": "code",
      "source": [
        "#encapsulation\n",
        "class Person:\n",
        "    #constructor\n",
        "    def __init__(self,name,age):\n",
        "        self.__name=name         #using private\n",
        "        self.__age=age\n",
        "\n",
        "    def display_info(self):\n",
        "        print(f\"the person name is {self.__name} and the age is {self.__age}\")\n",
        "\n",
        "\n",
        "person=Person(\"aryan\",19)\n",
        "\n",
        "person.display_info()\n",
        "\n",
        "\n"
      ],
      "metadata": {
        "colab": {
          "base_uri": "https://localhost:8080/"
        },
        "id": "0E5DyavAJkJq",
        "outputId": "40a6916d-fc95-4bf9-f041-bae94ac576e8"
      },
      "execution_count": null,
      "outputs": [
        {
          "output_type": "stream",
          "name": "stdout",
          "text": [
            "the person name is aryan and the age is 19\n"
          ]
        }
      ]
    },
    {
      "cell_type": "code",
      "source": [
        "class Student:\n",
        "\n",
        "   def __init__(self, name=\"Tina\", marks=50):\n",
        "      self.__name = name\n",
        "      self.__marks = marks\n",
        "   def studentdata(self):\n",
        "      print (\"Name: {} marks: {}\".format(self.__name, self.__marks))\n",
        "\n",
        "s1 = Student()\n",
        "s2 = Student(\"Sharan\", 25)\n",
        "\n",
        "s1.studentdata()\n",
        "s2.studentdata()\n",
        "print (\"Name: {} marks: {}\".format(s1.__name, s2.__marks))\n",
        "print (\"Name: {} marks: {}\".format(s2.__name, __s2.marks))    #it will cause error because we are calling private outside the class"
      ],
      "metadata": {
        "colab": {
          "base_uri": "https://localhost:8080/",
          "height": 262
        },
        "id": "huP9u3B_PC7I",
        "outputId": "2a5ec458-63d1-47c7-b476-a5e85993badd"
      },
      "execution_count": null,
      "outputs": [
        {
          "output_type": "stream",
          "name": "stdout",
          "text": [
            "Name: Tina marks: 50\n",
            "Name: Sharan marks: 25\n"
          ]
        },
        {
          "output_type": "error",
          "ename": "AttributeError",
          "evalue": "'Student' object has no attribute '__name'",
          "traceback": [
            "\u001b[0;31m---------------------------------------------------------------------------\u001b[0m",
            "\u001b[0;31mAttributeError\u001b[0m                            Traceback (most recent call last)",
            "\u001b[0;32m<ipython-input-29-ad8e2f29012b>\u001b[0m in \u001b[0;36m<cell line: 14>\u001b[0;34m()\u001b[0m\n\u001b[1;32m     12\u001b[0m \u001b[0ms1\u001b[0m\u001b[0;34m.\u001b[0m\u001b[0mstudentdata\u001b[0m\u001b[0;34m(\u001b[0m\u001b[0;34m)\u001b[0m\u001b[0;34m\u001b[0m\u001b[0;34m\u001b[0m\u001b[0m\n\u001b[1;32m     13\u001b[0m \u001b[0ms2\u001b[0m\u001b[0;34m.\u001b[0m\u001b[0mstudentdata\u001b[0m\u001b[0;34m(\u001b[0m\u001b[0;34m)\u001b[0m\u001b[0;34m\u001b[0m\u001b[0;34m\u001b[0m\u001b[0m\n\u001b[0;32m---> 14\u001b[0;31m \u001b[0mprint\u001b[0m \u001b[0;34m(\u001b[0m\u001b[0;34m\"Name: {} marks: {}\"\u001b[0m\u001b[0;34m.\u001b[0m\u001b[0mformat\u001b[0m\u001b[0;34m(\u001b[0m\u001b[0ms1\u001b[0m\u001b[0;34m.\u001b[0m\u001b[0m__name\u001b[0m\u001b[0;34m,\u001b[0m \u001b[0ms2\u001b[0m\u001b[0;34m.\u001b[0m\u001b[0m__marks\u001b[0m\u001b[0;34m)\u001b[0m\u001b[0;34m)\u001b[0m\u001b[0;34m\u001b[0m\u001b[0;34m\u001b[0m\u001b[0m\n\u001b[0m\u001b[1;32m     15\u001b[0m \u001b[0mprint\u001b[0m \u001b[0;34m(\u001b[0m\u001b[0;34m\"Name: {} marks: {}\"\u001b[0m\u001b[0;34m.\u001b[0m\u001b[0mformat\u001b[0m\u001b[0;34m(\u001b[0m\u001b[0ms2\u001b[0m\u001b[0;34m.\u001b[0m\u001b[0m__name\u001b[0m\u001b[0;34m,\u001b[0m \u001b[0m__s2\u001b[0m\u001b[0;34m.\u001b[0m\u001b[0mmarks\u001b[0m\u001b[0;34m)\u001b[0m\u001b[0;34m)\u001b[0m    \u001b[0;31m#it will cause error because we are calling private outside the class\u001b[0m\u001b[0;34m\u001b[0m\u001b[0;34m\u001b[0m\u001b[0m\n",
            "\u001b[0;31mAttributeError\u001b[0m: 'Student' object has no attribute '__name'"
          ]
        }
      ]
    },
    {
      "cell_type": "code",
      "source": [],
      "metadata": {
        "id": "w75T29r6NDAY"
      },
      "execution_count": null,
      "outputs": []
    },
    {
      "cell_type": "code",
      "source": [
        "class Animal:\n",
        "    def speak(self):\n",
        "        pass\n",
        "\n",
        "class Dog(Animal):\n",
        "    def speak(self):\n",
        "        return \"Woof!\"\n",
        "\n",
        "class Cat(Animal):\n",
        "    def speak(self):\n",
        "        return \"Meow!\"\n",
        "\n",
        "def sound(animal):\n",
        "    return animal.speak()\n",
        "\n",
        "dog = Dog()\n",
        "cat = Cat()\n",
        "\n",
        "print(sound(dog))\n",
        "print(sound(cat))\n"
      ],
      "metadata": {
        "colab": {
          "base_uri": "https://localhost:8080/"
        },
        "id": "A6KUfHj4Ggan",
        "outputId": "c1949d36-b12e-46f8-85c7-b3a6007efd2e"
      },
      "execution_count": null,
      "outputs": [
        {
          "output_type": "stream",
          "name": "stdout",
          "text": [
            "Woof!\n",
            "Meow!\n"
          ]
        }
      ]
    },
    {
      "cell_type": "code",
      "source": [
        "class Duck:\n",
        "  def talk(self):\n",
        "    print(\"quack\")\n",
        "\n",
        "class Human:\n",
        "  def talk(self):\n",
        "    print(\"talk\")\n",
        "def  call_talk(obj):\n",
        "  obj.talk()\n",
        "\n",
        "x=Duck()\n",
        "call_talk(x)\n",
        "x=Human()\n",
        "call_talk(x)\n"
      ],
      "metadata": {
        "colab": {
          "base_uri": "https://localhost:8080/"
        },
        "id": "yNcrJgdUIWSo",
        "outputId": "8f1e00df-2f90-47d4-db18-fe052a7999fc"
      },
      "execution_count": null,
      "outputs": [
        {
          "output_type": "stream",
          "name": "stdout",
          "text": [
            "quack\n",
            "talk\n"
          ]
        }
      ]
    },
    {
      "cell_type": "code",
      "source": [
        "x = \"Python\"\n",
        "y = [22,32,54,65,232,123]\n",
        "z = {\"name\": \"Aryan\", \"age\": 19}\n",
        "\n",
        "print(len(x))\n",
        "print(len(y))     #using len a polymorph\n",
        "print(len(z))\n"
      ],
      "metadata": {
        "colab": {
          "base_uri": "https://localhost:8080/"
        },
        "id": "9ScluY8THZ-E",
        "outputId": "6966c07f-309b-4b93-e090-7fc84046063c"
      },
      "execution_count": null,
      "outputs": [
        {
          "output_type": "stream",
          "name": "stdout",
          "text": [
            "6\n",
            "6\n",
            "2\n"
          ]
        }
      ]
    },
    {
      "cell_type": "code",
      "source": [
        "#abstraction\n",
        "from abc import ABC, abstractmethod\n",
        "class BaseClass(ABC):\n",
        "    @abstractmethod\n",
        "    def method_1(self):\n",
        "         #empty body\n",
        "         pass\n"
      ],
      "metadata": {
        "id": "IIevUK5uIE54"
      },
      "execution_count": null,
      "outputs": []
    },
    {
      "cell_type": "code",
      "source": [],
      "metadata": {
        "colab": {
          "base_uri": "https://localhost:8080/",
          "height": 279
        },
        "id": "oWRz7yFnq3og",
        "outputId": "07056388-b643-4c5a-f80e-2273d4424a22"
      },
      "execution_count": null,
      "outputs": [
        {
          "output_type": "stream",
          "name": "stdout",
          "text": [
            "pygame 2.5.2 (SDL 2.28.2, Python 3.10.12)\n",
            "Hello from the pygame community. https://www.pygame.org/contribute.html\n"
          ]
        },
        {
          "output_type": "error",
          "ename": "error",
          "evalue": "display Surface quit",
          "traceback": [
            "\u001b[0;31m---------------------------------------------------------------------------\u001b[0m",
            "\u001b[0;31merror\u001b[0m                                     Traceback (most recent call last)",
            "\u001b[0;32m<ipython-input-1-8ffffddf6133>\u001b[0m in \u001b[0;36m<cell line: 37>\u001b[0;34m()\u001b[0m\n\u001b[1;32m     70\u001b[0m \u001b[0;34m\u001b[0m\u001b[0m\n\u001b[1;32m     71\u001b[0m     \u001b[0;31m# Draw screen\u001b[0m\u001b[0;34m\u001b[0m\u001b[0;34m\u001b[0m\u001b[0m\n\u001b[0;32m---> 72\u001b[0;31m     \u001b[0mscreen\u001b[0m\u001b[0;34m.\u001b[0m\u001b[0mfill\u001b[0m\u001b[0;34m(\u001b[0m\u001b[0mblack\u001b[0m\u001b[0;34m)\u001b[0m\u001b[0;34m\u001b[0m\u001b[0;34m\u001b[0m\u001b[0m\n\u001b[0m\u001b[1;32m     73\u001b[0m     \u001b[0mpygame\u001b[0m\u001b[0;34m.\u001b[0m\u001b[0mdraw\u001b[0m\u001b[0;34m.\u001b[0m\u001b[0mrect\u001b[0m\u001b[0;34m(\u001b[0m\u001b[0mscreen\u001b[0m\u001b[0;34m,\u001b[0m \u001b[0mred\u001b[0m\u001b[0;34m,\u001b[0m \u001b[0;34m[\u001b[0m\u001b[0mfood_x\u001b[0m\u001b[0;34m,\u001b[0m \u001b[0mfood_y\u001b[0m\u001b[0;34m,\u001b[0m \u001b[0msnake_block\u001b[0m\u001b[0;34m,\u001b[0m \u001b[0msnake_block\u001b[0m\u001b[0;34m]\u001b[0m\u001b[0;34m)\u001b[0m\u001b[0;34m\u001b[0m\u001b[0;34m\u001b[0m\u001b[0m\n\u001b[1;32m     74\u001b[0m \u001b[0;34m\u001b[0m\u001b[0m\n",
            "\u001b[0;31merror\u001b[0m: display Surface quit"
          ]
        }
      ]
    },
    {
      "cell_type": "code",
      "source": [
        "# at (@)abstract is used to call the abstract method\n",
        "from abc import ABC, abstractmethod\n",
        "class Students(ABC):\n",
        "  def __init__(self,name,address,id,gender):\n",
        "    self.name = name\n",
        "    self.address = address\n",
        "    self.id = id\n",
        "    self.gender = gender\n",
        "@abstractmethod\n",
        "def details(self):\n",
        "  pass\n",
        "#creating an abstract class through concrete method\n",
        "def type(self):\n",
        "  print(\"average student\")\n",
        "\n",
        "def convert1(self):\n",
        "  print(\"a topper\")\n",
        "\n",
        "#creating a child class\n",
        "class student1(Students):\n",
        "  def details(self):\n",
        "    print(\"name:\",self.name)\n",
        "    print(\"address:\",self.address)\n",
        "    print(\"id:\",self.id)\n",
        "    print(\"gender:\",self.gender)\n",
        "\n",
        "  def english(self):\n",
        "    print(\"out of syllabus\")\n",
        "\n",
        "stu1=student1(\"raman\",\"haryana\",\"121\",\"male\")\n",
        "\n",
        "stu1.details()\n",
        "stu1.english()\n",
        "stu1.type()\n",
        "\n",
        "\n"
      ],
      "metadata": {
        "colab": {
          "base_uri": "https://localhost:8080/",
          "height": 331
        },
        "id": "ebs6RmO1hQWF",
        "outputId": "74d239ed-8468-4fd6-bd44-5c6874ba2658"
      },
      "execution_count": null,
      "outputs": [
        {
          "output_type": "stream",
          "name": "stdout",
          "text": [
            "name: raman\n",
            "address: haryana\n",
            "id: 121\n",
            "gender: male\n",
            "out of syllabus\n"
          ]
        },
        {
          "output_type": "error",
          "ename": "AttributeError",
          "evalue": "'student1' object has no attribute 'type'",
          "traceback": [
            "\u001b[0;31m---------------------------------------------------------------------------\u001b[0m",
            "\u001b[0;31mAttributeError\u001b[0m                            Traceback (most recent call last)",
            "\u001b[0;32m<ipython-input-37-28fa7dc5509a>\u001b[0m in \u001b[0;36m<cell line: 34>\u001b[0;34m()\u001b[0m\n\u001b[1;32m     32\u001b[0m \u001b[0mstu1\u001b[0m\u001b[0;34m.\u001b[0m\u001b[0mdetails\u001b[0m\u001b[0;34m(\u001b[0m\u001b[0;34m)\u001b[0m\u001b[0;34m\u001b[0m\u001b[0;34m\u001b[0m\u001b[0m\n\u001b[1;32m     33\u001b[0m \u001b[0mstu1\u001b[0m\u001b[0;34m.\u001b[0m\u001b[0menglish\u001b[0m\u001b[0;34m(\u001b[0m\u001b[0;34m)\u001b[0m\u001b[0;34m\u001b[0m\u001b[0;34m\u001b[0m\u001b[0m\n\u001b[0;32m---> 34\u001b[0;31m \u001b[0mstu1\u001b[0m\u001b[0;34m.\u001b[0m\u001b[0mtype\u001b[0m\u001b[0;34m(\u001b[0m\u001b[0;34m)\u001b[0m\u001b[0;34m\u001b[0m\u001b[0;34m\u001b[0m\u001b[0m\n\u001b[0m\u001b[1;32m     35\u001b[0m \u001b[0;34m\u001b[0m\u001b[0m\n\u001b[1;32m     36\u001b[0m \u001b[0;34m\u001b[0m\u001b[0m\n",
            "\u001b[0;31mAttributeError\u001b[0m: 'student1' object has no attribute 'type'"
          ]
        }
      ]
    },
    {
      "cell_type": "code",
      "source": [
        "from abc import *\n",
        "class x(ABC):\n",
        "  @abstractmethod\n",
        "  def calculate(self,y):\n",
        "    pass\n",
        "\n",
        "class sub1(x):\n",
        "  def calculate(self,y):\n",
        "    print('square value= ',y*y)\n",
        "\n",
        "import math\n",
        "class sub2(x):\n",
        "  def calculate(self,y):\n",
        "    print(\"square root= \",math.sqrt(y))\n",
        "\n",
        "class sub3(x):\n",
        "  def calculate(self,y):\n",
        "    print(\"cube value= \",y**3)\n",
        "\n",
        "obj1=sub1()\n",
        "obj1.calculate(16)\n",
        "obj2=sub2()\n",
        "obj2.calculate(16)\n",
        "obj3=sub3()\n",
        "obj3.calculate(16)"
      ],
      "metadata": {
        "id": "dtXG4QR3l1GB"
      },
      "execution_count": null,
      "outputs": []
    },
    {
      "cell_type": "code",
      "source": [
        "class Student:\n",
        "  roll = \"0\"\n",
        "  name = \"x\"\n",
        "  marks_math = 0\n",
        "  marks_phy = 0\n",
        "  marks_chem = 0\n",
        "  total_marks = 0\n",
        "  avg_marks= 0.0\n",
        "  def show(self):\n",
        "    print(self.roll)\n",
        "    print(self.name)\n",
        "  def calculate(self):\n",
        "    self.total_marks = self.marks_math + self.marks_chem + self.marks_phy\n",
        "    print(total_marks)\n",
        "\n",
        "  def setData(self,m1,m2,m3,m4):\n",
        "    self.m1 = 92\n",
        "    self.m2 = 99\n",
        "    self.m3 = 98\n",
        "    self.m4 = 99\n",
        "\n",
        "\n"
      ],
      "metadata": {
        "id": "VmZm5eSNmkr1"
      },
      "execution_count": null,
      "outputs": []
    },
    {
      "cell_type": "code",
      "source": [
        "\n"
      ],
      "metadata": {
        "id": "bZaslAxZml4R"
      },
      "execution_count": null,
      "outputs": []
    },
    {
      "cell_type": "code",
      "source": [
        "import turtle\n",
        "\n",
        "# Set initial position\n",
        "turtle.penup ()\n",
        "turtle.left (90)\n",
        "turtle.fd (200)\n",
        "turtle.pendown ()\n",
        "turtle.right (90)\n",
        "\n",
        "# flower base\n",
        "turtle.fillcolor (\"red\")\n",
        "turtle.begin_fill ()\n",
        "turtle.circle (10,180)\n",
        "turtle.circle (25,110)\n",
        "turtle.left (50)\n",
        "turtle.circle (60,45)\n",
        "turtle.circle (20,170)\n",
        "turtle.right (24)\n",
        "turtle.fd (30)\n",
        "turtle.left (10)\n",
        "turtle.circle (30,110)\n",
        "turtle.fd (20)\n",
        "turtle.left (40)\n",
        "turtle.circle (90,70)\n",
        "turtle.circle (30,150)\n",
        "turtle.right (30)\n",
        "turtle.fd (15)\n",
        "turtle.circle (80,90)\n",
        "turtle.left (15)\n",
        "turtle.fd (45)\n",
        "turtle.right (165)\n",
        "turtle.fd (20)\n",
        "turtle.left (155)\n",
        "turtle.circle (150,80)\n",
        "turtle.left (50)\n",
        "turtle.circle (150,90)\n",
        "turtle.end_fill ()\n",
        "\n",
        "# Petal 1\n",
        "turtle.left (150)\n",
        "turtle.circle (-90,70)\n",
        "turtle.left (20)\n",
        "turtle.circle (75,105)\n",
        "turtle.setheading (60)\n",
        "turtle.circle (80,98)\n",
        "turtle.circle (-90,40)\n",
        "\n",
        "# Petal 2\n",
        "turtle.left (180)\n",
        "turtle.circle (90,40)\n",
        "turtle.circle (-80,98)\n",
        "turtle.setheading (-83)\n",
        "\n",
        "# Leaves 1\n",
        "turtle.fd (30)\n",
        "turtle.left (90)\n",
        "turtle.fd (25)\n",
        "turtle.left (45)\n",
        "turtle.fillcolor (\"green\")\n",
        "turtle.begin_fill ()\n",
        "turtle.circle (-80,90)\n",
        "turtle.right (90)\n",
        "turtle.circle (-80,90)\n",
        "turtle.end_fill ()\n",
        "turtle.right (135)\n",
        "turtle.fd (60)\n",
        "turtle.left (180)\n",
        "turtle.fd (85)\n",
        "turtle.left (90)\n",
        "turtle.fd (80)\n",
        "\n",
        "# Leaves 2\n",
        "turtle.right (90)\n",
        "turtle.right (45)\n",
        "turtle.fillcolor (\"green\")\n",
        "turtle.begin_fill ()\n",
        "turtle.circle (80,90)\n",
        "turtle.left (90)\n",
        "turtle.circle (80,90)\n",
        "turtle.end_fill ()\n",
        "turtle.left (135)\n",
        "turtle.fd (60)\n",
        "turtle.left (180)\n",
        "turtle.fd (60)\n",
        "turtle.right (90)\n",
        "turtle.circle (200,60)\n",
        "turtle.done()\n"
      ],
      "metadata": {
        "id": "nTtGn7JNpUjb"
      },
      "execution_count": null,
      "outputs": []
    },
    {
      "cell_type": "code",
      "source": [
        "def add(x,y):\n",
        " return x + y\n",
        "add(5,6)\n"
      ],
      "metadata": {
        "id": "bOphBSZmCXp9"
      },
      "execution_count": null,
      "outputs": []
    },
    {
      "cell_type": "code",
      "source": [],
      "metadata": {
        "id": "ECGXCVplzad9"
      },
      "execution_count": null,
      "outputs": []
    }
  ]
}