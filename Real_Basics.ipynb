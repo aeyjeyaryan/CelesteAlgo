{
  "cells": [
    {
      "cell_type": "markdown",
      "metadata": {
        "id": "view-in-github",
        "colab_type": "text"
      },
      "source": [
        "<a href=\"https://colab.research.google.com/github/aeyjeyaryan/Python_ML/blob/main/Real_Basics.ipynb\" target=\"_parent\"><img src=\"https://colab.research.google.com/assets/colab-badge.svg\" alt=\"Open In Colab\"/></a>"
      ]
    },
    {
      "cell_type": "code",
      "execution_count": null,
      "metadata": {
        "colab": {
          "base_uri": "https://localhost:8080/"
        },
        "id": "J2qY_J4IA_Gw",
        "outputId": "43973877-42fa-4334-a95d-21c70ee8201d"
      },
      "outputs": [
        {
          "name": "stdout",
          "output_type": "stream",
          "text": [
            "hey rohan, you are amazing\n"
          ]
        }
      ],
      "source": [
        "def mess(name, mess=\"you are amazing\"):\n",
        "  print(\"hey\", name + ', ' + mess)\n",
        " #the message\n",
        "mess(\"rohan\")"
      ]
    },
    {
      "cell_type": "code",
      "execution_count": null,
      "metadata": {
        "colab": {
          "base_uri": "https://localhost:8080/"
        },
        "id": "RC38gBouBqRI",
        "outputId": "0f6c4ac6-0803-4b51-ebc7-ceb50a18168f"
      },
      "outputs": [
        {
          "name": "stdout",
          "output_type": "stream",
          "text": [
            "Hello rohan, happy birthday\n"
          ]
        }
      ],
      "source": [
        "def wish(name, wish=\"happy birthday\"):\n",
        "  print(\"Hello\", name+ ', ' + wish)\n",
        "wish(\"rohan\")"
      ]
    },
    {
      "cell_type": "code",
      "execution_count": 2,
      "metadata": {
        "colab": {
          "base_uri": "https://localhost:8080/"
        },
        "id": "KCgzyy18CuBg",
        "outputId": "a87d076b-4472-459b-d7a6-25c20c180a32"
      },
      "outputs": [
        {
          "output_type": "stream",
          "name": "stdout",
          "text": [
            "Welcome\n",
            "Enter your name: aryan\n",
            "Hello aryan\n",
            "Enter your age: 19\n",
            "You can continue.\n",
            "..........................\n",
            "Let's start\n",
            "Are you ready? Y/N: Y\n",
            "Sure.\n",
            "...........................\n",
            "We are going on an adventure to the moon, so before getting in the rocket, tell us about your love for space.\n",
            "On a scale of 1 to 10, how much do you love space? (1 being the least, 10 being the most): 9\n",
            "that's awesome boy!! lets go and explore the moon\n",
            "what should be the speed of your rocket?(max. speed is 1000kmph) : 988\n",
            "988\n",
            "okay! we can ride the rocket now! Let's go\n",
            "......\n",
            ".\n",
            ".\n",
            ".\n",
            ".\n",
            "..\n",
            ".\n",
            "\n",
            "\n",
            "   /  /   /    /......|      |\n",
            "|      |\n",
            "|      |\n",
            "|      |\n",
            "|      |\n",
            "|      |\n",
            "|      |\n",
            "________\n",
            "////\\\\\n",
            "\n",
            "\n",
            "\n",
            "this is your rocket, Would you like to launch?\n",
            "Yes/NoYes\n",
            "Preparing for launch\n",
            "We have succcessfully launched, set the co ordinates now:\n"
          ]
        }
      ],
      "source": [
        "\n",
        "\n",
        "print(\"Welcome\")\n",
        "name = str(input(\"Enter your name: \"))\n",
        "print(\"Hello \" + name)\n",
        "age = int(input(\"Enter your age: \"))\n",
        "\n",
        "if age > 10:\n",
        "    print(\"You can continue.\")\n",
        "else:\n",
        "    print(\"Go study kiddo.\")\n",
        "    exit()  # Exit the program if the user is too young.\n",
        "\n",
        "print(\"..........................\")\n",
        "print(\"Let's start\")\n",
        "Y = 1\n",
        "N = 0\n",
        "user_input = input(\"Are you ready? Y/N: \")\n",
        "\n",
        "if user_input.upper() == 'N':\n",
        "    print(\"Okay, see you later.\")\n",
        "else:\n",
        "    print(\"Sure.\")\n",
        "    print(\"...........................\")\n",
        "\n",
        "    print(\"We are going on an adventure to the moon, so before getting in the rocket, tell us about your love for space.\")\n",
        "\n",
        "    def user_love_for_space():\n",
        "        love_for_space = input(\"On a scale of 1 to 10, how much do you love space? (1 being the least, 10 being the most): \")\n",
        "        love_for_space = int(love_for_space)\n",
        "\n",
        "        if love_for_space <= 5:\n",
        "            print(\"Hmmm, so you are not much interested in space. No worries. We can still continue\")\n",
        "        elif 5 < love_for_space <= 8:\n",
        "            print(\"Space must excite you in that case.\")\n",
        "        else:\n",
        "            print(\"that's awesome boy!! lets go and explore the moon\")\n",
        "\n",
        "    user_love_for_space()\n",
        "\n",
        "b=eval(input(\"what should be the speed of your rocket?(max. speed is 1000kmph) : \"))\n",
        "print(b)\n",
        "if b>500:\n",
        "   print(\"okay! we can ride the rocket now! Let's go\")\n",
        "elif b<500:\n",
        "  print(\"That's very slow, we cannot reach moon with that speed!\")\n",
        "elif b>1000:\n",
        "    print(\"sorry! we don't have that advanced engine right now\")\n",
        "else:\n",
        "      print(\"sure! let's goooooooo!!!!!!!!!!!!\")\n",
        "\n",
        "print(\"\"\"......\n",
        ".\n",
        ".\n",
        ".\n",
        ".\n",
        "..\n",
        ".\n",
        "\n",
        "\n",
        "   /\\\n",
        "  /  \\\n",
        " /    \\\n",
        "/......\\\n",
        "|      |\n",
        "|      |\n",
        "|      |\n",
        "|      |\n",
        "|      |\n",
        "|      |\n",
        "|      |\n",
        "________\n",
        "////\\\\\\\\\\\n",
        "\n",
        "\n",
        "\n",
        "\"\"\")\n",
        "print(\"this is your rocket, Would you like to launch?\")\n",
        "launch=str(input(\"Yes/No\"))\n",
        "if launch == \"Yes\":\n",
        " print(\"Preparing for launch\")\n",
        "else:\n",
        "    print(\"Launch Cancelled\")\n",
        "\n",
        "print(\"We have succcessfully launched, set the co ordinates now:\")\n",
        "\n"
      ]
    },
    {
      "cell_type": "code",
      "execution_count": null,
      "metadata": {
        "id": "X1UzDs51DfM-"
      },
      "outputs": [],
      "source": [
        "for char in \"Python\":\n",
        "    print(char)"
      ]
    },
    {
      "cell_type": "code",
      "execution_count": null,
      "metadata": {
        "colab": {
          "base_uri": "https://localhost:8080/"
        },
        "id": "-NHy2kayvkyx",
        "outputId": "05228aa6-eb1c-4ec0-d171-b84ae36a891d"
      },
      "outputs": [
        {
          "name": "stdout",
          "output_type": "stream",
          "text": [
            "            * \n",
            "          * * * \n",
            "        * * * * * \n",
            "      * * * * * * * \n",
            "    * * * * * * * * * \n",
            "  * * * * * * * * * * * \n",
            "* * * * * * * * * * * * * \n",
            "  * * * * * * * * * * * \n",
            "    * * * * * * * * * \n",
            "      * * * * * * * \n",
            "        * * * * * \n",
            "          * * * \n",
            "            * \n"
          ]
        }
      ],
      "source": [
        "n = 8\n",
        "for i in range(1,n):\n",
        "  for j in range(1,n-i):\n",
        "    print(\" \",end=\" \")\n",
        "  for k in range(0,2*i-1):\n",
        "    print(\"*\",end=' ')\n",
        "  print()\n",
        "  #another pyramid\n",
        "for i in range(n-2,0,-1):\n",
        "  for j in range(1,n-i):\n",
        "    print(\" \",end=\" \")\n",
        "  for k in range(1,2*i):\n",
        "    print(\"*\",end=\" \")\n",
        "  print()"
      ]
    },
    {
      "cell_type": "code",
      "execution_count": 3,
      "metadata": {
        "id": "80g7Vh8NwfOm"
      },
      "outputs": [],
      "source": []
    },
    {
      "cell_type": "code",
      "execution_count": null,
      "metadata": {
        "id": "3CEfSSnPz4gf"
      },
      "outputs": [],
      "source": []
    }
  ],
  "metadata": {
    "colab": {
      "provenance": [],
      "authorship_tag": "ABX9TyMeAQ7NmsNdDTeNUZbjVyWp",
      "include_colab_link": true
    },
    "kernelspec": {
      "display_name": "Python 3",
      "name": "python3"
    },
    "language_info": {
      "name": "python"
    }
  },
  "nbformat": 4,
  "nbformat_minor": 0
}