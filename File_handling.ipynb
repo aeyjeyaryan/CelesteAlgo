{
  "nbformat": 4,
  "nbformat_minor": 0,
  "metadata": {
    "colab": {
      "provenance": [],
      "authorship_tag": "ABX9TyPc/qVRqbtz8+SJlJTSIZGV",
      "include_colab_link": true
    },
    "kernelspec": {
      "name": "python3",
      "display_name": "Python 3"
    },
    "language_info": {
      "name": "python"
    }
  },
  "cells": [
    {
      "cell_type": "markdown",
      "metadata": {
        "id": "view-in-github",
        "colab_type": "text"
      },
      "source": [
        "<a href=\"https://colab.research.google.com/github/aeyjeyaryan/Python_ML/blob/main/File_handling.ipynb\" target=\"_parent\"><img src=\"https://colab.research.google.com/assets/colab-badge.svg\" alt=\"Open In Colab\"/></a>"
      ]
    },
    {
      "cell_type": "code",
      "execution_count": null,
      "metadata": {
        "colab": {
          "base_uri": "https://localhost:8080/",
          "height": 227
        },
        "id": "_gH76p6tsG44",
        "outputId": "7cd62e25-e881-4dbd-9236-1c86977a9823"
      },
      "outputs": [
        {
          "output_type": "error",
          "ename": "FileExistsError",
          "evalue": "ignored",
          "traceback": [
            "\u001b[0;31m---------------------------------------------------------------------------\u001b[0m",
            "\u001b[0;31mFileExistsError\u001b[0m                           Traceback (most recent call last)",
            "\u001b[0;32m<ipython-input-2-aa7ac8673dee>\u001b[0m in \u001b[0;36m<cell line: 1>\u001b[0;34m()\u001b[0m\n\u001b[0;32m----> 1\u001b[0;31m \u001b[0mz\u001b[0m \u001b[0;34m=\u001b[0m \u001b[0mopen\u001b[0m\u001b[0;34m(\u001b[0m\u001b[0;34m\"file.txt\"\u001b[0m\u001b[0;34m,\u001b[0m\u001b[0;34m\"x\"\u001b[0m\u001b[0;34m)\u001b[0m\u001b[0;34m\u001b[0m\u001b[0;34m\u001b[0m\u001b[0m\n\u001b[0m\u001b[1;32m      2\u001b[0m \u001b[0my\u001b[0m \u001b[0;34m=\u001b[0m \u001b[0mz\u001b[0m\u001b[0;34m.\u001b[0m\u001b[0mread\u001b[0m\u001b[0;34m(\u001b[0m\u001b[0;34m)\u001b[0m\u001b[0;34m\u001b[0m\u001b[0;34m\u001b[0m\u001b[0m\n\u001b[1;32m      3\u001b[0m \u001b[0mprint\u001b[0m\u001b[0;34m(\u001b[0m\u001b[0my\u001b[0m\u001b[0;34m)\u001b[0m\u001b[0;34m\u001b[0m\u001b[0;34m\u001b[0m\u001b[0m\n\u001b[1;32m      4\u001b[0m \u001b[0mz\u001b[0m\u001b[0;34m.\u001b[0m\u001b[0mclose\u001b[0m\u001b[0;34m(\u001b[0m\u001b[0;34m)\u001b[0m\u001b[0;34m\u001b[0m\u001b[0;34m\u001b[0m\u001b[0m\n",
            "\u001b[0;31mFileExistsError\u001b[0m: [Errno 17] File exists: 'file.txt'"
          ]
        }
      ],
      "source": [
        "z = open(\"file.txt\",\"x\")\n",
        "y = z.read()\n",
        "print(y)\n",
        "z.close()"
      ]
    },
    {
      "cell_type": "code",
      "source": [
        "z = open('file.txt','w')\n",
        "text = \"This is just a text! \\n\"\n",
        "z.write(text)\n",
        "z.write(\"This is another text \\n\")\n",
        "z.write(\"this is third line of text \\n\")\n",
        "z.close()\n"
      ],
      "metadata": {
        "id": "3o9b4mHSs26H"
      },
      "execution_count": null,
      "outputs": []
    },
    {
      "cell_type": "code",
      "source": [
        "z = open(\"file.txt\",\"r\")\n",
        "dxx = z.read()\n",
        "print(dxx)"
      ],
      "metadata": {
        "colab": {
          "base_uri": "https://localhost:8080/"
        },
        "id": "QKwEIOQv0lgu",
        "outputId": "6dc3a03a-df14-46ae-bde9-5cd6cceb5d24"
      },
      "execution_count": null,
      "outputs": [
        {
          "output_type": "stream",
          "name": "stdout",
          "text": [
            "This is just a text! \n",
            "This is another text \n",
            "this is third line of text \n",
            "\n"
          ]
        }
      ]
    },
    {
      "cell_type": "code",
      "source": [
        "from google.colab import drive\n",
        "drive.mount('/drive')\n"
      ],
      "metadata": {
        "colab": {
          "base_uri": "https://localhost:8080/"
        },
        "id": "nrkgfsc4tFzP",
        "outputId": "792b8617-79bc-46e7-b72e-5ebd22e76c80"
      },
      "execution_count": null,
      "outputs": [
        {
          "output_type": "stream",
          "name": "stdout",
          "text": [
            "Mounted at /drive\n"
          ]
        }
      ]
    },
    {
      "cell_type": "code",
      "source": [
        "z = open(\"file.txt\",\"r\")\n",
        "dz = z.readline()\n",
        "print(dz)\n",
        "print(type(dz))"
      ],
      "metadata": {
        "colab": {
          "base_uri": "https://localhost:8080/"
        },
        "id": "TYW_X-Ly0zkC",
        "outputId": "52035200-fcc0-4d6c-b2be-b909c7775d40"
      },
      "execution_count": null,
      "outputs": [
        {
          "output_type": "stream",
          "name": "stdout",
          "text": [
            "This is just a text! \n",
            "\n",
            "<class 'str'>\n"
          ]
        }
      ]
    },
    {
      "cell_type": "markdown",
      "source": [
        " THings left :use of w+, r+, binary files(later)\n",
        "\n",
        " for project\n",
        "call center project\n",
        "searching in a file\n",
        "search by name and by roll number\n",
        "Eg. for searching press 1\n",
        "sub option = search by name press 2 by roll press 3\n",
        "to update by using roll number\n",
        "creating new entry press 6\n",
        "use conditonals,functions\n",
        "create a function that will first search only (by roll or name)\n",
        "now conditional\n",
        "\n"
      ],
      "metadata": {
        "id": "1D6Z32ArROZa"
      }
    },
    {
      "cell_type": "code",
      "source": [
        "z = open(\"file.txt\",\"r\")\n",
        "z.seek(1)\n",
        "print(z.read())"
      ],
      "metadata": {
        "id": "9QuC5AtqvOSl",
        "colab": {
          "base_uri": "https://localhost:8080/"
        },
        "outputId": "c700b36c-0e4a-4e7a-801d-85cb3174b514"
      },
      "execution_count": null,
      "outputs": [
        {
          "output_type": "stream",
          "name": "stdout",
          "text": [
            "his is just a text! \n",
            "This is another text \n",
            "this is third line of text \n",
            "\n"
          ]
        }
      ]
    },
    {
      "cell_type": "code",
      "source": [
        "z = open(\"file.txt\",\"r\")\n",
        "z.seek(3)\n",
        "print(z.read())"
      ],
      "metadata": {
        "colab": {
          "base_uri": "https://localhost:8080/"
        },
        "id": "EfBXdmJP2gVn",
        "outputId": "c726eeb7-d7bb-4fac-ec7e-a3cca7d00fdc"
      },
      "execution_count": null,
      "outputs": [
        {
          "output_type": "stream",
          "name": "stdout",
          "text": [
            "s is just a text! \n",
            "This is another text \n",
            "this is third line of text \n",
            "\n"
          ]
        }
      ]
    },
    {
      "cell_type": "code",
      "source": [
        "new = open(\"newfile.txt\",\"x\")\n",
        "new.close()"
      ],
      "metadata": {
        "colab": {
          "base_uri": "https://localhost:8080/",
          "height": 193
        },
        "id": "OGf7ssx93klL",
        "outputId": "96bc3266-502d-47f1-d2c6-192cd5437714"
      },
      "execution_count": null,
      "outputs": [
        {
          "output_type": "error",
          "ename": "FileExistsError",
          "evalue": "ignored",
          "traceback": [
            "\u001b[0;31m---------------------------------------------------------------------------\u001b[0m",
            "\u001b[0;31mFileExistsError\u001b[0m                           Traceback (most recent call last)",
            "\u001b[0;32m<ipython-input-34-169e295a6a2b>\u001b[0m in \u001b[0;36m<cell line: 1>\u001b[0;34m()\u001b[0m\n\u001b[0;32m----> 1\u001b[0;31m \u001b[0mnew\u001b[0m \u001b[0;34m=\u001b[0m \u001b[0mopen\u001b[0m\u001b[0;34m(\u001b[0m\u001b[0;34m\"newfile.txt\"\u001b[0m\u001b[0;34m,\u001b[0m\u001b[0;34m\"x\"\u001b[0m\u001b[0;34m)\u001b[0m\u001b[0;34m\u001b[0m\u001b[0;34m\u001b[0m\u001b[0m\n\u001b[0m\u001b[1;32m      2\u001b[0m \u001b[0mnew\u001b[0m\u001b[0;34m.\u001b[0m\u001b[0mclose\u001b[0m\u001b[0;34m(\u001b[0m\u001b[0;34m)\u001b[0m\u001b[0;34m\u001b[0m\u001b[0;34m\u001b[0m\u001b[0m\n",
            "\u001b[0;31mFileExistsError\u001b[0m: [Errno 17] File exists: 'newfile.txt'"
          ]
        }
      ]
    },
    {
      "cell_type": "code",
      "source": [
        "new = open(\"newfile.txt\",\"w\")\n",
        "new.write(\"My name is aryan \\n\")\n",
        "new.write(\"I am writing code \\n\")\n",
        "new.write(\"I love eating momo \\n\")\n",
        "new.close()\n"
      ],
      "metadata": {
        "id": "wuuejzA14DwB"
      },
      "execution_count": null,
      "outputs": []
    },
    {
      "cell_type": "code",
      "source": [
        "new = open(\"newfile.txt\",\"r\")\n",
        "ds = new.read()\n",
        "print(\"there are these statements in this file\",ds)\n",
        "new.seek(10)\n",
        "print(new.read())\n",
        "new.close()"
      ],
      "metadata": {
        "colab": {
          "base_uri": "https://localhost:8080/"
        },
        "id": "0dPWneWt4g_W",
        "outputId": "33505dc2-540d-4911-bdf3-8e0f6dcd72aa"
      },
      "execution_count": null,
      "outputs": [
        {
          "output_type": "stream",
          "name": "stdout",
          "text": [
            "there are these statements in this file My name is aryan \n",
            "I am writing code \n",
            "I love eating momo \n",
            "\n",
            " aryan \n",
            "I am writing code \n",
            "I love eating momo \n",
            "\n"
          ]
        }
      ]
    },
    {
      "cell_type": "code",
      "source": [
        "with open(\"myfile.txt\",\"x\") as file:\n",
        "  file = open(\"myfile.txt\",\"w\")\n",
        "  file.write(\"this is just a sample text :)\")\n",
        "  file.close()"
      ],
      "metadata": {
        "id": "2ipcBesG5Fme"
      },
      "execution_count": null,
      "outputs": []
    },
    {
      "cell_type": "code",
      "source": [
        "file = open(\"myfile.txt\",\"a+\")\n",
        "file.write(\"this is another sample text :| \\n\")\n",
        "file.write(\"this is another one \\n\")\n",
        "file.close()"
      ],
      "metadata": {
        "id": "gesdTabfU1Sv"
      },
      "execution_count": null,
      "outputs": []
    },
    {
      "cell_type": "code",
      "source": [
        "file = open(\"myfile.txt\",\"r\")\n",
        "print(file.read())\n",
        "file.close()"
      ],
      "metadata": {
        "colab": {
          "base_uri": "https://localhost:8080/"
        },
        "id": "1_sQcrDoVPqz",
        "outputId": "d9e25187-dbc9-42b6-a5fd-20cf76241aa2"
      },
      "execution_count": null,
      "outputs": [
        {
          "output_type": "stream",
          "name": "stdout",
          "text": [
            "this is just a sample text :)this is another sample text :| \n",
            "this is another one \n",
            "this is another sample text :| \n",
            "this is another one \n",
            "this is another sample text :| \n",
            "this is another one \n",
            "\n"
          ]
        }
      ]
    },
    {
      "cell_type": "code",
      "source": [],
      "metadata": {
        "id": "MDVIfBP9VtUf"
      },
      "execution_count": null,
      "outputs": []
    }
  ]
}